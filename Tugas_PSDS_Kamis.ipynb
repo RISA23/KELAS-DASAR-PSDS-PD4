{
  "nbformat": 4,
  "nbformat_minor": 0,
  "metadata": {
    "colab": {
      "provenance": []
    },
    "kernelspec": {
      "name": "python3",
      "display_name": "Python 3"
    },
    "language_info": {
      "name": "python"
    }
  },
  "cells": [
    {
      "cell_type": "code",
      "execution_count": null,
      "metadata": {
        "id": "lnqyQXiwrTpN"
      },
      "outputs": [],
      "source": []
    },
    {
      "cell_type": "markdown",
      "source": [
        "#Pengenalan Phyton"
      ],
      "metadata": {
        "id": "LVbwmjFs0paq"
      }
    },
    {
      "cell_type": "markdown",
      "source": [
        "Phyton adalah Bahasa pemrograman tingkat tinggi dengan dynamic semantics, bersifat object\n",
        "oriented, dan interpretatif. Bahasa pemrograman ini fokus dikembangkan pada keterbacaan\n",
        "bahasa pemrograman.\n",
        "1. Bahasa Pemrograman Tingkat Tinggi (High Level Programming) Artinya sintaks kode\n",
        "lebih mudah ditafsirkan oleh manusia.\n",
        "2. Interpretatif Ini artinya bahasa ini memerlukan intrepeter atau penerjemah. Ini\n",
        "memungkinkan kita untuk menggunakan Bahasa yang lebih mudah kita pahami.\n",
        "3. Object Oriented Ini berarti bahwa bahasa pemrograman ini berorientasi kepada objek. Hal\n",
        "ini membuat Phyton lebih mudah untuk dikembangkan.\n",
        "4. Dynamic Semantic Phyton secara otomatis akan menyesuaikan tipe dari suatu variable\n",
        "berdasarkan inputnya.\n"
      ],
      "metadata": {
        "id": "UePKGAEC03J1"
      }
    },
    {
      "cell_type": "markdown",
      "source": [
        "#Mengapa Phyton ?"
      ],
      "metadata": {
        "id": "5W2NlU-A06PF"
      }
    },
    {
      "cell_type": "markdown",
      "source": [
        "Phyton pada umumnya terdiri dari :\n",
        "1. Statement"
      ],
      "metadata": {
        "id": "SZ4Hx7M61THT"
      }
    },
    {
      "cell_type": "code",
      "source": [
        "print(\"belajar Phyton menyenangkan\")\n",
        "print(\"halo dunia\")\n"
      ],
      "metadata": {
        "id": "SSYag4L11DHK"
      },
      "execution_count": null,
      "outputs": []
    },
    {
      "cell_type": "markdown",
      "source": [
        "2. Variables"
      ],
      "metadata": {
        "id": "8WmIR-ox0-bc"
      }
    },
    {
      "cell_type": "code",
      "source": [
        "bilangan1 = 5\n",
        "bilangan2 = 10\n",
        "kalimat = \"Pejuang Data 3\"\n",
        "bilangan1 + bilangan2"
      ],
      "metadata": {
        "colab": {
          "base_uri": "https://localhost:8080/"
        },
        "id": "08wovel21b2c",
        "outputId": "e6b860cf-9c63-4452-8386-4a256b981909"
      },
      "execution_count": 1,
      "outputs": [
        {
          "output_type": "execute_result",
          "data": {
            "text/plain": [
              "15"
            ]
          },
          "metadata": {},
          "execution_count": 1
        }
      ]
    },
    {
      "cell_type": "markdown",
      "source": [
        "3. Literals : Simbol-simbol yang dapat kita gunakan untuk mengisi suatu variable.\n",
        "4. Operators : Simbol-simbol yang dapat digunakan untuk mengubah nilai dari satu variable\n",
        "dengan melibatkan satu atau lebih variable dan literal\n",
        "5. Reserved Words : Kumpulan kata-kata yang memiliki makna khusus dalam bahasa\n",
        "pemrograman Phyton. Kata false , return , dan for merupakan contoh dari reserved\n",
        "words.\n",
        "6. Whitespace : Pada bahasa Phyton, spasi dan tab memiliki makna khusus untuk menandai\n",
        "serangkaian blok dalam kode Phyton.\n",
        "7. Comments : Comments merupakan sekumpulan teks yang dituliskan di dalam sebuah\n",
        "program yang tidak akan mempengaruhi hasil dari sebuah pemrograman.\n",
        "Terdapat dua jenis comments di dalam Phyton, yaitu :\n",
        "a. single line comment (comments dalam satu baris) seperti contoh berikut :"
      ],
      "metadata": {
        "id": "YFdt6UHT1fPb"
      }
    },
    {
      "cell_type": "code",
      "source": [
        "# Ini adalah Comment\n",
        "print(\"belajar Phyton\")"
      ],
      "metadata": {
        "id": "2nBhRIxk1lLn"
      },
      "execution_count": null,
      "outputs": []
    },
    {
      "cell_type": "markdown",
      "source": [
        "b. multi line comment (comments dalam beberapa baris) yang dapat dilakukan\n",
        "seperti pada contoh berikut :"
      ],
      "metadata": {
        "id": "32AbUoVl1_HG"
      }
    },
    {
      "cell_type": "code",
      "source": [
        "'''\n",
        "Ini adalah komentar panjang\n",
        "Bisa digunakan untuk memberikan penjelasan\n",
        "panjang pada Sell Kode Phyton,\n",
        "Misal dokumentasi program, spesifikasi\n",
        "input output atau lainnya'''\n",
        "print('Belajar Phyton menyenangkan')"
      ],
      "metadata": {
        "id": "pD_63umR2Cc2"
      },
      "execution_count": null,
      "outputs": []
    }
  ]
}